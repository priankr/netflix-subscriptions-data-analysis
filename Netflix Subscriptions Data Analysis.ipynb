{
 "cells": [
  {
   "cell_type": "markdown",
   "metadata": {},
   "source": [
    "# Netflix Subscriptions Data Analysis\n",
    "\n",
    "The data was downloaded from Kaggle:https://www.kaggle.com/prasertk/netflix-subscription-price-in-different-countries\n",
    "\n",
    "The dataset contains details on Netflix subsription fees and content offerings across several countries where Netflix services are available. \n",
    "\n",
    "<i>Note: The dataset does not include ALL countries where Netflix operates. </i>\n",
    "\n",
    "## Goal\n",
    "Determining where Netflix customers potentially experience the most satisfaction from their subscription. "
   ]
  },
  {
   "cell_type": "code",
   "execution_count": 1,
   "metadata": {},
   "outputs": [],
   "source": [
    "import pandas as pd\n",
    "import numpy as np\n",
    "import matplotlib.pyplot as plt\n",
    "import seaborn as sns\n",
    "%matplotlib inline"
   ]
  },
  {
   "cell_type": "code",
   "execution_count": 2,
   "metadata": {},
   "outputs": [],
   "source": [
    "#Read the file\n",
    "netflix_df = pd.read_csv('netflix dec 2021.csv')"
   ]
  },
  {
   "cell_type": "code",
   "execution_count": 3,
   "metadata": {
    "scrolled": true
   },
   "outputs": [
    {
     "data": {
      "text/html": [
       "<div>\n",
       "<style scoped>\n",
       "    .dataframe tbody tr th:only-of-type {\n",
       "        vertical-align: middle;\n",
       "    }\n",
       "\n",
       "    .dataframe tbody tr th {\n",
       "        vertical-align: top;\n",
       "    }\n",
       "\n",
       "    .dataframe thead th {\n",
       "        text-align: right;\n",
       "    }\n",
       "</style>\n",
       "<table border=\"1\" class=\"dataframe\">\n",
       "  <thead>\n",
       "    <tr style=\"text-align: right;\">\n",
       "      <th></th>\n",
       "      <th>Country_code</th>\n",
       "      <th>Country</th>\n",
       "      <th>Total Library Size</th>\n",
       "      <th>No. of TV Shows</th>\n",
       "      <th>No. of Movies</th>\n",
       "      <th>Cost Per Month - Basic ($)</th>\n",
       "      <th>Cost Per Month - Standard ($)</th>\n",
       "      <th>Cost Per Month - Premium ($)</th>\n",
       "    </tr>\n",
       "  </thead>\n",
       "  <tbody>\n",
       "    <tr>\n",
       "      <th>0</th>\n",
       "      <td>ar</td>\n",
       "      <td>Argentina</td>\n",
       "      <td>4760</td>\n",
       "      <td>3154</td>\n",
       "      <td>1606</td>\n",
       "      <td>3.74</td>\n",
       "      <td>6.30</td>\n",
       "      <td>9.26</td>\n",
       "    </tr>\n",
       "    <tr>\n",
       "      <th>1</th>\n",
       "      <td>au</td>\n",
       "      <td>Australia</td>\n",
       "      <td>6114</td>\n",
       "      <td>4050</td>\n",
       "      <td>2064</td>\n",
       "      <td>7.84</td>\n",
       "      <td>12.12</td>\n",
       "      <td>16.39</td>\n",
       "    </tr>\n",
       "    <tr>\n",
       "      <th>2</th>\n",
       "      <td>at</td>\n",
       "      <td>Austria</td>\n",
       "      <td>5640</td>\n",
       "      <td>3779</td>\n",
       "      <td>1861</td>\n",
       "      <td>9.03</td>\n",
       "      <td>14.67</td>\n",
       "      <td>20.32</td>\n",
       "    </tr>\n",
       "    <tr>\n",
       "      <th>3</th>\n",
       "      <td>be</td>\n",
       "      <td>Belgium</td>\n",
       "      <td>4990</td>\n",
       "      <td>3374</td>\n",
       "      <td>1616</td>\n",
       "      <td>10.16</td>\n",
       "      <td>15.24</td>\n",
       "      <td>20.32</td>\n",
       "    </tr>\n",
       "    <tr>\n",
       "      <th>4</th>\n",
       "      <td>bo</td>\n",
       "      <td>Bolivia</td>\n",
       "      <td>4991</td>\n",
       "      <td>3155</td>\n",
       "      <td>1836</td>\n",
       "      <td>7.99</td>\n",
       "      <td>10.99</td>\n",
       "      <td>13.99</td>\n",
       "    </tr>\n",
       "  </tbody>\n",
       "</table>\n",
       "</div>"
      ],
      "text/plain": [
       "  Country_code    Country  Total Library Size  No. of TV Shows  No. of Movies  \\\n",
       "0           ar  Argentina                4760             3154           1606   \n",
       "1           au  Australia                6114             4050           2064   \n",
       "2           at    Austria                5640             3779           1861   \n",
       "3           be    Belgium                4990             3374           1616   \n",
       "4           bo    Bolivia                4991             3155           1836   \n",
       "\n",
       "   Cost Per Month - Basic ($)  Cost Per Month - Standard ($)  \\\n",
       "0                        3.74                           6.30   \n",
       "1                        7.84                          12.12   \n",
       "2                        9.03                          14.67   \n",
       "3                       10.16                          15.24   \n",
       "4                        7.99                          10.99   \n",
       "\n",
       "   Cost Per Month - Premium ($)  \n",
       "0                          9.26  \n",
       "1                         16.39  \n",
       "2                         20.32  \n",
       "3                         20.32  \n",
       "4                         13.99  "
      ]
     },
     "execution_count": 3,
     "metadata": {},
     "output_type": "execute_result"
    }
   ],
   "source": [
    "netflix_df.head()"
   ]
  },
  {
   "cell_type": "code",
   "execution_count": 4,
   "metadata": {},
   "outputs": [
    {
     "data": {
      "text/plain": [
       "Index(['Country_code', 'Country', 'Total Library Size', 'No. of TV Shows',\n",
       "       'No. of Movies', 'Cost Per Month - Basic ($)',\n",
       "       'Cost Per Month - Standard ($)', 'Cost Per Month - Premium ($)'],\n",
       "      dtype='object')"
      ]
     },
     "execution_count": 4,
     "metadata": {},
     "output_type": "execute_result"
    }
   ],
   "source": [
    "netflix_df.columns"
   ]
  },
  {
   "cell_type": "markdown",
   "metadata": {},
   "source": [
    "## Checking for Missing Values"
   ]
  },
  {
   "cell_type": "code",
   "execution_count": 5,
   "metadata": {},
   "outputs": [
    {
     "data": {
      "text/plain": [
       "False"
      ]
     },
     "execution_count": 5,
     "metadata": {},
     "output_type": "execute_result"
    }
   ],
   "source": [
    "#Checking the entire data frame for missing values\n",
    "netflix_df.isna().any().any()"
   ]
  },
  {
   "cell_type": "markdown",
   "metadata": {},
   "source": [
    "## Creating new features\n",
    "\n",
    "In this stage we are adding new features that will provide more insight into the data.\n",
    "\n",
    "### Region \n",
    "We will identify the region each country falls under based on the country code."
   ]
  },
  {
   "cell_type": "code",
   "execution_count": 6,
   "metadata": {},
   "outputs": [
    {
     "data": {
      "text/html": [
       "<div>\n",
       "<style scoped>\n",
       "    .dataframe tbody tr th:only-of-type {\n",
       "        vertical-align: middle;\n",
       "    }\n",
       "\n",
       "    .dataframe tbody tr th {\n",
       "        vertical-align: top;\n",
       "    }\n",
       "\n",
       "    .dataframe thead th {\n",
       "        text-align: right;\n",
       "    }\n",
       "</style>\n",
       "<table border=\"1\" class=\"dataframe\">\n",
       "  <thead>\n",
       "    <tr style=\"text-align: right;\">\n",
       "      <th></th>\n",
       "      <th>Country_code</th>\n",
       "      <th>Country</th>\n",
       "      <th>Total Library Size</th>\n",
       "      <th>No. of TV Shows</th>\n",
       "      <th>No. of Movies</th>\n",
       "      <th>Cost Per Month - Basic ($)</th>\n",
       "      <th>Cost Per Month - Standard ($)</th>\n",
       "      <th>Cost Per Month - Premium ($)</th>\n",
       "      <th>Region</th>\n",
       "    </tr>\n",
       "  </thead>\n",
       "  <tbody>\n",
       "    <tr>\n",
       "      <th>0</th>\n",
       "      <td>ar</td>\n",
       "      <td>Argentina</td>\n",
       "      <td>4760</td>\n",
       "      <td>3154</td>\n",
       "      <td>1606</td>\n",
       "      <td>3.74</td>\n",
       "      <td>6.30</td>\n",
       "      <td>9.26</td>\n",
       "      <td>South America</td>\n",
       "    </tr>\n",
       "    <tr>\n",
       "      <th>1</th>\n",
       "      <td>au</td>\n",
       "      <td>Australia</td>\n",
       "      <td>6114</td>\n",
       "      <td>4050</td>\n",
       "      <td>2064</td>\n",
       "      <td>7.84</td>\n",
       "      <td>12.12</td>\n",
       "      <td>16.39</td>\n",
       "      <td>Oceania</td>\n",
       "    </tr>\n",
       "    <tr>\n",
       "      <th>2</th>\n",
       "      <td>at</td>\n",
       "      <td>Austria</td>\n",
       "      <td>5640</td>\n",
       "      <td>3779</td>\n",
       "      <td>1861</td>\n",
       "      <td>9.03</td>\n",
       "      <td>14.67</td>\n",
       "      <td>20.32</td>\n",
       "      <td>Europe</td>\n",
       "    </tr>\n",
       "    <tr>\n",
       "      <th>3</th>\n",
       "      <td>be</td>\n",
       "      <td>Belgium</td>\n",
       "      <td>4990</td>\n",
       "      <td>3374</td>\n",
       "      <td>1616</td>\n",
       "      <td>10.16</td>\n",
       "      <td>15.24</td>\n",
       "      <td>20.32</td>\n",
       "      <td>Europe</td>\n",
       "    </tr>\n",
       "    <tr>\n",
       "      <th>4</th>\n",
       "      <td>bo</td>\n",
       "      <td>Bolivia</td>\n",
       "      <td>4991</td>\n",
       "      <td>3155</td>\n",
       "      <td>1836</td>\n",
       "      <td>7.99</td>\n",
       "      <td>10.99</td>\n",
       "      <td>13.99</td>\n",
       "      <td>South America</td>\n",
       "    </tr>\n",
       "  </tbody>\n",
       "</table>\n",
       "</div>"
      ],
      "text/plain": [
       "  Country_code    Country  Total Library Size  No. of TV Shows  No. of Movies  \\\n",
       "0           ar  Argentina                4760             3154           1606   \n",
       "1           au  Australia                6114             4050           2064   \n",
       "2           at    Austria                5640             3779           1861   \n",
       "3           be    Belgium                4990             3374           1616   \n",
       "4           bo    Bolivia                4991             3155           1836   \n",
       "\n",
       "   Cost Per Month - Basic ($)  Cost Per Month - Standard ($)  \\\n",
       "0                        3.74                           6.30   \n",
       "1                        7.84                          12.12   \n",
       "2                        9.03                          14.67   \n",
       "3                       10.16                          15.24   \n",
       "4                        7.99                          10.99   \n",
       "\n",
       "   Cost Per Month - Premium ($)         Region  \n",
       "0                          9.26  South America  \n",
       "1                         16.39        Oceania  \n",
       "2                         20.32         Europe  \n",
       "3                         20.32         Europe  \n",
       "4                         13.99  South America  "
      ]
     },
     "execution_count": 6,
     "metadata": {},
     "output_type": "execute_result"
    }
   ],
   "source": [
    "import pycountry_convert as pc\n",
    "\n",
    "#Creating a function to identify the continent from the country code\n",
    "def country_to_continent(country_name):\n",
    "    country_alpha2 = pc.country_name_to_country_alpha2(country_name)\n",
    "    country_continent_code = pc.country_alpha2_to_continent_code(country_alpha2)\n",
    "    country_continent_name = pc.convert_continent_code_to_continent_name(country_continent_code)\n",
    "    return country_continent_name\n",
    "\n",
    "#Creating a column to indicate the continent for each country\n",
    "netflix_df['Region'] = netflix_df['Country'].apply(lambda country_name: country_to_continent(country_name))\n",
    "\n",
    "netflix_df.head()"
   ]
  },
  {
   "cell_type": "markdown",
   "metadata": {},
   "source": [
    "To make the Dataframe more readable we can move the \"Region\" column right after the \"Country\" column"
   ]
  },
  {
   "cell_type": "code",
   "execution_count": 7,
   "metadata": {},
   "outputs": [],
   "source": [
    "#Creating a function to reposition columns\n",
    "def movecol(df, cols_to_move=[], ref_col='', place='After'):\n",
    "    \n",
    "    #cols_to_move can be one or more columns we wish to move\n",
    "    #ref_col is the column after or before which we want to reposition the column(s)\n",
    "    \n",
    "    cols = df.columns.tolist()\n",
    "    if place == 'After':\n",
    "        seg1 = cols[:list(cols).index(ref_col) + 1]\n",
    "        seg2 = cols_to_move\n",
    "    if place == 'Before':\n",
    "        seg1 = cols[:list(cols).index(ref_col)]\n",
    "        seg2 = cols_to_move + [ref_col]\n",
    "    \n",
    "    seg1 = [i for i in seg1 if i not in seg2]\n",
    "    seg3 = [i for i in cols if i not in seg1 + seg2]\n",
    "    \n",
    "    return(df[seg1 + seg2 + seg3])"
   ]
  },
  {
   "cell_type": "code",
   "execution_count": 8,
   "metadata": {},
   "outputs": [],
   "source": [
    "netflix_df = movecol(netflix_df, cols_to_move=['Region'], ref_col='Country', place='After')"
   ]
  },
  {
   "cell_type": "markdown",
   "metadata": {},
   "source": [
    "### Value for Money\n",
    "\n",
    "We will examine the relationship between the amount of content available and the basic subscription cost to determine which customers receive the most value for money.\n",
    "\n",
    "A higher score indicates that the customers can access more content per dollar spent on their Basic Netflix Subsciption."
   ]
  },
  {
   "cell_type": "code",
   "execution_count": 9,
   "metadata": {},
   "outputs": [],
   "source": [
    "netflix_df['Value for Money'] = (netflix_df['Total Library Size']/netflix_df['Cost Per Month - Basic ($)']).round()"
   ]
  },
  {
   "cell_type": "markdown",
   "metadata": {},
   "source": [
    "# Exploratory Data Analysis\n",
    "\n",
    "In this stage, we will examine the data to identify any patterns, trends and relationships between the variables. It will help us analyze the data and extract insights that can be used to make decisions.\n",
    "\n",
    "Data Visualization will give us a clear idea of what the data means by giving it visual context."
   ]
  },
  {
   "cell_type": "code",
   "execution_count": 10,
   "metadata": {},
   "outputs": [
    {
     "data": {
      "text/plain": [
       "65"
      ]
     },
     "execution_count": 10,
     "metadata": {},
     "output_type": "execute_result"
    }
   ],
   "source": [
    "#Number of countries we have data for\n",
    "len(netflix_df['Country'])"
   ]
  },
  {
   "cell_type": "code",
   "execution_count": 11,
   "metadata": {
    "scrolled": true
   },
   "outputs": [
    {
     "data": {
      "text/html": [
       "<div>\n",
       "<style scoped>\n",
       "    .dataframe tbody tr th:only-of-type {\n",
       "        vertical-align: middle;\n",
       "    }\n",
       "\n",
       "    .dataframe tbody tr th {\n",
       "        vertical-align: top;\n",
       "    }\n",
       "\n",
       "    .dataframe thead th {\n",
       "        text-align: right;\n",
       "    }\n",
       "</style>\n",
       "<table border=\"1\" class=\"dataframe\">\n",
       "  <thead>\n",
       "    <tr style=\"text-align: right;\">\n",
       "      <th></th>\n",
       "      <th>Region</th>\n",
       "    </tr>\n",
       "  </thead>\n",
       "  <tbody>\n",
       "    <tr>\n",
       "      <th>Europe</th>\n",
       "      <td>34</td>\n",
       "    </tr>\n",
       "    <tr>\n",
       "      <th>Asia</th>\n",
       "      <td>12</td>\n",
       "    </tr>\n",
       "    <tr>\n",
       "      <th>South America</th>\n",
       "      <td>10</td>\n",
       "    </tr>\n",
       "    <tr>\n",
       "      <th>North America</th>\n",
       "      <td>6</td>\n",
       "    </tr>\n",
       "    <tr>\n",
       "      <th>Oceania</th>\n",
       "      <td>2</td>\n",
       "    </tr>\n",
       "    <tr>\n",
       "      <th>Africa</th>\n",
       "      <td>1</td>\n",
       "    </tr>\n",
       "  </tbody>\n",
       "</table>\n",
       "</div>"
      ],
      "text/plain": [
       "               Region\n",
       "Europe             34\n",
       "Asia               12\n",
       "South America      10\n",
       "North America       6\n",
       "Oceania             2\n",
       "Africa              1"
      ]
     },
     "execution_count": 11,
     "metadata": {},
     "output_type": "execute_result"
    }
   ],
   "source": [
    "netflix_df['Region'].value_counts().to_frame()"
   ]
  },
  {
   "cell_type": "code",
   "execution_count": 12,
   "metadata": {
    "scrolled": true
   },
   "outputs": [
    {
     "data": {
      "text/plain": [
       "Text(0.5, 1.0, 'Netflix Worldwide Coverage by Region')"
      ]
     },
     "execution_count": 12,
     "metadata": {},
     "output_type": "execute_result"
    },
    {
     "data": {
      "image/png": "[encoded data removed]",
      "text/plain": [
       "<Figure size 576x576 with 1 Axes>"
      ]
     },
     "metadata": {},
     "output_type": "display_data"
    }
   ],
   "source": [
    "regions = netflix_df['Region'].value_counts()\n",
    "\n",
    "regions.plot.pie(figsize=(8, 8), autopct='%1.0f%%',fontsize=15,labels=regions.index, pctdistance=0.85, startangle=55)\n",
    "plt.title(\"Netflix Worldwide Coverage by Region\", fontsize=16)\n",
    "\n",
    "# autopct=\"%1.0f%%\" shows the percentage to 0 decimal place \n",
    "# pctdistance controls how far the values appear from the center of the circle\n",
    "# startangle controls the angle of the slices, allowing the pie chart to be rotated to improve readability"
   ]
  },
  {
   "cell_type": "markdown",
   "metadata": {},
   "source": [
    "We have data on <b>65</b> countries where Netflix operates across <b>6 regions</b>.\n",
    "- <b>Europe</b> represents the biggest region for Netlfix \n",
    "- <b>Africa</b> represents the smallest region for Netlfix\n",
    "\n",
    "## Content"
   ]
  },
  {
   "cell_type": "code",
   "execution_count": 13,
   "metadata": {},
   "outputs": [
    {
     "data": {
      "text/html": [
       "<div>\n",
       "<style scoped>\n",
       "    .dataframe tbody tr th:only-of-type {\n",
       "        vertical-align: middle;\n",
       "    }\n",
       "\n",
       "    .dataframe tbody tr th {\n",
       "        vertical-align: top;\n",
       "    }\n",
       "\n",
       "    .dataframe thead th {\n",
       "        text-align: right;\n",
       "    }\n",
       "</style>\n",
       "<table border=\"1\" class=\"dataframe\">\n",
       "  <thead>\n",
       "    <tr style=\"text-align: right;\">\n",
       "      <th></th>\n",
       "      <th>Total Library Size</th>\n",
       "      <th>No. of TV Shows</th>\n",
       "      <th>No. of Movies</th>\n",
       "    </tr>\n",
       "  </thead>\n",
       "  <tbody>\n",
       "    <tr>\n",
       "      <th>count</th>\n",
       "      <td>65.0</td>\n",
       "      <td>65.0</td>\n",
       "      <td>65.0</td>\n",
       "    </tr>\n",
       "    <tr>\n",
       "      <th>mean</th>\n",
       "      <td>5314.0</td>\n",
       "      <td>3519.0</td>\n",
       "      <td>1795.0</td>\n",
       "    </tr>\n",
       "    <tr>\n",
       "      <th>std</th>\n",
       "      <td>980.0</td>\n",
       "      <td>723.0</td>\n",
       "      <td>327.0</td>\n",
       "    </tr>\n",
       "    <tr>\n",
       "      <th>min</th>\n",
       "      <td>2274.0</td>\n",
       "      <td>1675.0</td>\n",
       "      <td>373.0</td>\n",
       "    </tr>\n",
       "    <tr>\n",
       "      <th>25%</th>\n",
       "      <td>4948.0</td>\n",
       "      <td>3154.0</td>\n",
       "      <td>1628.0</td>\n",
       "    </tr>\n",
       "    <tr>\n",
       "      <th>50%</th>\n",
       "      <td>5195.0</td>\n",
       "      <td>3512.0</td>\n",
       "      <td>1841.0</td>\n",
       "    </tr>\n",
       "    <tr>\n",
       "      <th>75%</th>\n",
       "      <td>5952.0</td>\n",
       "      <td>3832.0</td>\n",
       "      <td>1980.0</td>\n",
       "    </tr>\n",
       "    <tr>\n",
       "      <th>max</th>\n",
       "      <td>7325.0</td>\n",
       "      <td>5234.0</td>\n",
       "      <td>2387.0</td>\n",
       "    </tr>\n",
       "  </tbody>\n",
       "</table>\n",
       "</div>"
      ],
      "text/plain": [
       "       Total Library Size  No. of TV Shows  No. of Movies\n",
       "count                65.0             65.0           65.0\n",
       "mean               5314.0           3519.0         1795.0\n",
       "std                 980.0            723.0          327.0\n",
       "min                2274.0           1675.0          373.0\n",
       "25%                4948.0           3154.0         1628.0\n",
       "50%                5195.0           3512.0         1841.0\n",
       "75%                5952.0           3832.0         1980.0\n",
       "max                7325.0           5234.0         2387.0"
      ]
     },
     "execution_count": 13,
     "metadata": {},
     "output_type": "execute_result"
    }
   ],
   "source": [
    "content_stats = netflix_df['Total Library Size'].describe().round().to_frame()\n",
    "tv = netflix_df['No. of TV Shows'].describe().round()\n",
    "movies = netflix_df['No. of Movies'].describe().round()\n",
    "content_stats = pd.concat([content_stats, tv, movies], axis=1)\n",
    "content_stats"
   ]
  },
  {
   "cell_type": "markdown",
   "metadata": {},
   "source": [
    "- The average library size is <b>5314</b> with an average of <b>3519 TV Shows</b> and <b>1795 Movies</b>\n",
    "- The content library size varies between <b>2274 and 7425</b>, which indicates that there is a significant difference in what content a netflix customer can see based on where they are accessing Netflix from. \n",
    "- <b>75% of customers</b> have access to a libary of at least <b>4948 TV Shows and Movies</b>."
   ]
  },
  {
   "cell_type": "code",
   "execution_count": 14,
   "metadata": {},
   "outputs": [
    {
     "data": {
      "text/plain": [
       "Text(0.5, 1.0, 'Total Netflix Content Library Size')"
      ]
     },
     "execution_count": 14,
     "metadata": {},
     "output_type": "execute_result"
    },
    {
     "data": {
      "image/png": "[encoded data removed]",
      "text/plain": [
       "<Figure size 720x720 with 1 Axes>"
      ]
     },
     "metadata": {
      "needs_background": "light"
     },
     "output_type": "display_data"
    }
   ],
   "source": [
    "fig_dims = (10,10)\n",
    "fig, ax = plt.subplots(figsize=fig_dims)\n",
    "\n",
    "sns.histplot(data=netflix_df, x=\"Total Library Size\",kde=True,binwidth=200)\n",
    "plt.title(\"Total Netflix Content Library Size\", fontsize=15)"
   ]
  },
  {
   "cell_type": "code",
   "execution_count": 15,
   "metadata": {
    "scrolled": true
   },
   "outputs": [
    {
     "data": {
      "text/html": [
       "<div>\n",
       "<style scoped>\n",
       "    .dataframe tbody tr th:only-of-type {\n",
       "        vertical-align: middle;\n",
       "    }\n",
       "\n",
       "    .dataframe tbody tr th {\n",
       "        vertical-align: top;\n",
       "    }\n",
       "\n",
       "    .dataframe thead th {\n",
       "        text-align: right;\n",
       "    }\n",
       "</style>\n",
       "<table border=\"1\" class=\"dataframe\">\n",
       "  <thead>\n",
       "    <tr style=\"text-align: right;\">\n",
       "      <th></th>\n",
       "      <th>Description</th>\n",
       "      <th>Country</th>\n",
       "      <th>Total Library Size</th>\n",
       "      <th>No. of TV Shows</th>\n",
       "      <th>No. of Movies</th>\n",
       "    </tr>\n",
       "  </thead>\n",
       "  <tbody>\n",
       "    <tr>\n",
       "      <th>12</th>\n",
       "      <td>Largest Content Library</td>\n",
       "      <td>Czechia</td>\n",
       "      <td>7325</td>\n",
       "      <td>5234</td>\n",
       "      <td>2091</td>\n",
       "    </tr>\n",
       "    <tr>\n",
       "      <th>11</th>\n",
       "      <td>Smallest Content Library</td>\n",
       "      <td>Croatia</td>\n",
       "      <td>2274</td>\n",
       "      <td>1675</td>\n",
       "      <td>599</td>\n",
       "    </tr>\n",
       "    <tr>\n",
       "      <th>12</th>\n",
       "      <td>Largest Library of TV Shows</td>\n",
       "      <td>Czechia</td>\n",
       "      <td>7325</td>\n",
       "      <td>5234</td>\n",
       "      <td>2091</td>\n",
       "    </tr>\n",
       "    <tr>\n",
       "      <th>11</th>\n",
       "      <td>Smallest Library of TV Shows</td>\n",
       "      <td>Croatia</td>\n",
       "      <td>2274</td>\n",
       "      <td>1675</td>\n",
       "      <td>599</td>\n",
       "    </tr>\n",
       "    <tr>\n",
       "      <th>35</th>\n",
       "      <td>Largest Library of Movies</td>\n",
       "      <td>Malaysia</td>\n",
       "      <td>5952</td>\n",
       "      <td>3565</td>\n",
       "      <td>2387</td>\n",
       "    </tr>\n",
       "    <tr>\n",
       "      <th>49</th>\n",
       "      <td>Smallest Library of Movies</td>\n",
       "      <td>San Marino</td>\n",
       "      <td>2310</td>\n",
       "      <td>1937</td>\n",
       "      <td>373</td>\n",
       "    </tr>\n",
       "  </tbody>\n",
       "</table>\n",
       "</div>"
      ],
      "text/plain": [
       "                     Description     Country Total Library Size  \\\n",
       "12       Largest Content Library     Czechia               7325   \n",
       "11      Smallest Content Library     Croatia               2274   \n",
       "12   Largest Library of TV Shows     Czechia               7325   \n",
       "11  Smallest Library of TV Shows     Croatia               2274   \n",
       "35     Largest Library of Movies    Malaysia               5952   \n",
       "49    Smallest Library of Movies  San Marino               2310   \n",
       "\n",
       "   No. of TV Shows No. of Movies  \n",
       "12            5234          2091  \n",
       "11            1675           599  \n",
       "12            5234          2091  \n",
       "11            1675           599  \n",
       "35            3565          2387  \n",
       "49            1937           373  "
      ]
     },
     "execution_count": 15,
     "metadata": {},
     "output_type": "execute_result"
    }
   ],
   "source": [
    "netflix_content_stats_df = pd.DataFrame(columns = ['Description', 'Country', 'Total Library Size', 'No. of TV Shows', 'No. of Movies','Cost Per Month - Basic ($)', 'Cost Per Month - Standard ($)','Cost Per Month - Premium ($)'])\n",
    "\n",
    "#Largest Library\n",
    "max_lib = netflix_df[netflix_df['Total Library Size'] == netflix_df['Total Library Size'].max()]\n",
    "max_lib.insert(0, \"Description\", \"Largest Content Library\", True)\n",
    "\n",
    "#Smallest Library\n",
    "min_lib = netflix_df[netflix_df['Total Library Size'] == netflix_df['Total Library Size'].min()]\n",
    "min_lib.insert(0, \"Description\", \"Smallest Content Library\", True)\n",
    "\n",
    "#Largest TV Library\n",
    "max_tv = netflix_df[netflix_df['No. of TV Shows'] == netflix_df['No. of TV Shows'].max()]\n",
    "max_tv.insert(0, \"Description\", \"Largest Library of TV Shows\", True)\n",
    "\n",
    "#Smallest TV Library\n",
    "min_tv = netflix_df[netflix_df['No. of TV Shows'] == netflix_df['No. of TV Shows'].min()]\n",
    "min_tv.insert(0, \"Description\", \"Smallest Library of TV Shows\", True)\n",
    "\n",
    "#Largest Movie Library\n",
    "max_mov = netflix_df[netflix_df['No. of Movies'] == netflix_df['No. of Movies'].max()]\n",
    "max_mov.insert(0, \"Description\", \"Largest Library of Movies\", True)\n",
    "\n",
    "#Smallest Movie Library\n",
    "min_mov = netflix_df[netflix_df['No. of Movies'] == netflix_df['No. of Movies'].min()]\n",
    "min_mov.insert(0, \"Description\", \"Smallest Library of Movies\", True)\n",
    "\n",
    "#Adding columns to empty dataframe\n",
    "netflix_content_stats_df = pd.concat([netflix_content_stats_df, max_lib, min_lib, max_tv, min_tv, max_mov, min_mov], axis=0)\n",
    "\n",
    "#Removing extra columns\n",
    "netflix_content_stats_df = netflix_content_stats_df[['Description', 'Country', 'Total Library Size', 'No. of TV Shows', 'No. of Movies']]\n",
    "\n",
    "netflix_content_stats_df"
   ]
  },
  {
   "cell_type": "markdown",
   "metadata": {},
   "source": [
    "As seen above, \n",
    "- <b>Czechia</b> has the Largest Content Library Overall and the Largest Library of TV Shows\n",
    "- <b>Croatia</b> has the Smallest Content Library Overall and the Smallest Library of TV Shows\n",
    "- <b>Malaysia</b> has the Largest Library of Movies\n",
    "- <b>San Marino</b> has the Smallest Library of Movies"
   ]
  },
  {
   "cell_type": "code",
   "execution_count": 16,
   "metadata": {},
   "outputs": [
    {
     "data": {
      "text/plain": [
       "<matplotlib.legend.Legend at 0x1e78187c8e0>"
      ]
     },
     "execution_count": 16,
     "metadata": {},
     "output_type": "execute_result"
    },
    {
     "data": {
      "image/png": "[encoded data removed]",
      "text/plain": [
       "<Figure size 720x432 with 1 Axes>"
      ]
     },
     "metadata": {},
     "output_type": "display_data"
    }
   ],
   "source": [
    "sns.set_theme(style=\"whitegrid\")\n",
    "\n",
    "fig_dims = (10, 6)\n",
    "fig, ax = plt.subplots(figsize=fig_dims)\n",
    "\n",
    "#Creating a DataFrame with the Top 10 countires by library content\n",
    "top_lib = netflix_df.sort_values(by=['Total Library Size'], ascending=False).head(10)\n",
    "\n",
    "sns.set_color_codes(\"pastel\")\n",
    "sns.barplot(x=top_lib['Total Library Size'], y=top_lib['Country'], data=top_lib, label=\"All Content\", color=\"b\")\n",
    "plt.title(\"Top Countries by Netflix Library Size\", fontsize=15)\n",
    "\n",
    "sns.set_color_codes(\"muted\")\n",
    "sns.barplot(x=top_lib['No. of TV Shows'], y=top_lib['Country'], data=top_lib, label=\"TV Shows\", color=\"b\")\n",
    "\n",
    "sns.set_color_codes(\"pastel\")\n",
    "sns.barplot(x=top_lib['No. of Movies'], y=top_lib['Country'], data=top_lib, label=\"Movies\", color=\"darkblue\")\n",
    "\n",
    "# Add a legend and informative axis label\n",
    "ax.set(xlim=(0, 8000), ylabel=\"\", xlabel=\"Library Size\")\n",
    "sns.despine(left=True, bottom=True)\n",
    "\n",
    "# Put the legend out of the figure\n",
    "plt.legend(bbox_to_anchor=(1.05, 1), loc=2, borderaxespad=0.)"
   ]
  },
  {
   "cell_type": "markdown",
   "metadata": {},
   "source": [
    "In the top 10 countries by library size we see that the Movie content remains around 2000 and the main differentiator is the number of TV Shows available in each country. "
   ]
  },
  {
   "cell_type": "code",
   "execution_count": 17,
   "metadata": {},
   "outputs": [
    {
     "data": {
      "text/plain": [
       "<matplotlib.legend.Legend at 0x1e781bdac40>"
      ]
     },
     "execution_count": 17,
     "metadata": {},
     "output_type": "execute_result"
    },
    {
     "data": {
      "image/png": "[encoded data removed]",
      "text/plain": [
       "<Figure size 720x432 with 1 Axes>"
      ]
     },
     "metadata": {},
     "output_type": "display_data"
    }
   ],
   "source": [
    "sns.set_theme(style=\"whitegrid\")\n",
    "\n",
    "fig_dims = (10, 6)\n",
    "fig, ax = plt.subplots(figsize=fig_dims)\n",
    "\n",
    "#Creating a DataFrame with the Bottom 10 countires by library content\n",
    "bot_lib = netflix_df.sort_values(by=['Total Library Size'], ascending=True).head(10)\n",
    "\n",
    "sns.set_color_codes(\"pastel\")\n",
    "sns.barplot(x=bot_lib['Total Library Size'], y=bot_lib['Country'], data=bot_lib, label=\"All Content\", color=\"b\")\n",
    "plt.title(\"Top Countries by Smallest Netflix Library Size\", fontsize=15)\n",
    "\n",
    "sns.set_color_codes(\"muted\")\n",
    "sns.barplot(x=bot_lib['No. of TV Shows'], y=bot_lib['Country'], data=bot_lib, label=\"TV Shows\", color=\"b\")\n",
    "\n",
    "sns.set_color_codes(\"pastel\")\n",
    "sns.barplot(x=bot_lib['No. of Movies'], y=bot_lib['Country'], data=bot_lib, label=\"Movies\", color=\"darkblue\")\n",
    "\n",
    "# Add a legend and informative axis label\n",
    "ax.set(xlim=(0, 5000), ylabel=\"\", xlabel=\"Library Size\")\n",
    "sns.despine(left=True, bottom=True)\n",
    "\n",
    "# Put the legend out of the figure\n",
    "plt.legend(bbox_to_anchor=(1.05, 1), loc=2, borderaxespad=0.)"
   ]
  },
  {
   "cell_type": "markdown",
   "metadata": {},
   "source": [
    "In the 10 countries by smallest library size we see that the Movie content remains around 1500 (except for Croatia and San Marino) and once again the main differentiator is the number of TV Shows available in each country. \n",
    "\n",
    "## Subscription"
   ]
  },
  {
   "cell_type": "code",
   "execution_count": 18,
   "metadata": {},
   "outputs": [
    {
     "data": {
      "text/html": [
       "<div>\n",
       "<style scoped>\n",
       "    .dataframe tbody tr th:only-of-type {\n",
       "        vertical-align: middle;\n",
       "    }\n",
       "\n",
       "    .dataframe tbody tr th {\n",
       "        vertical-align: top;\n",
       "    }\n",
       "\n",
       "    .dataframe thead th {\n",
       "        text-align: right;\n",
       "    }\n",
       "</style>\n",
       "<table border=\"1\" class=\"dataframe\">\n",
       "  <thead>\n",
       "    <tr style=\"text-align: right;\">\n",
       "      <th></th>\n",
       "      <th>Cost Per Month - Basic ($)</th>\n",
       "      <th>Cost Per Month - Standard ($)</th>\n",
       "      <th>Cost Per Month - Premium ($)</th>\n",
       "    </tr>\n",
       "  </thead>\n",
       "  <tbody>\n",
       "    <tr>\n",
       "      <th>count</th>\n",
       "      <td>65.00</td>\n",
       "      <td>65.00</td>\n",
       "      <td>65.00</td>\n",
       "    </tr>\n",
       "    <tr>\n",
       "      <th>mean</th>\n",
       "      <td>8.37</td>\n",
       "      <td>11.99</td>\n",
       "      <td>15.61</td>\n",
       "    </tr>\n",
       "    <tr>\n",
       "      <th>std</th>\n",
       "      <td>1.94</td>\n",
       "      <td>2.86</td>\n",
       "      <td>4.04</td>\n",
       "    </tr>\n",
       "    <tr>\n",
       "      <th>min</th>\n",
       "      <td>1.97</td>\n",
       "      <td>3.00</td>\n",
       "      <td>4.02</td>\n",
       "    </tr>\n",
       "    <tr>\n",
       "      <th>25%</th>\n",
       "      <td>7.99</td>\n",
       "      <td>10.71</td>\n",
       "      <td>13.54</td>\n",
       "    </tr>\n",
       "    <tr>\n",
       "      <th>50%</th>\n",
       "      <td>8.99</td>\n",
       "      <td>11.49</td>\n",
       "      <td>14.45</td>\n",
       "    </tr>\n",
       "    <tr>\n",
       "      <th>75%</th>\n",
       "      <td>9.03</td>\n",
       "      <td>13.54</td>\n",
       "      <td>18.06</td>\n",
       "    </tr>\n",
       "    <tr>\n",
       "      <th>max</th>\n",
       "      <td>12.88</td>\n",
       "      <td>20.46</td>\n",
       "      <td>26.96</td>\n",
       "    </tr>\n",
       "  </tbody>\n",
       "</table>\n",
       "</div>"
      ],
      "text/plain": [
       "       Cost Per Month - Basic ($)  Cost Per Month - Standard ($)  \\\n",
       "count                       65.00                          65.00   \n",
       "mean                         8.37                          11.99   \n",
       "std                          1.94                           2.86   \n",
       "min                          1.97                           3.00   \n",
       "25%                          7.99                          10.71   \n",
       "50%                          8.99                          11.49   \n",
       "75%                          9.03                          13.54   \n",
       "max                         12.88                          20.46   \n",
       "\n",
       "       Cost Per Month - Premium ($)  \n",
       "count                         65.00  \n",
       "mean                          15.61  \n",
       "std                            4.04  \n",
       "min                            4.02  \n",
       "25%                           13.54  \n",
       "50%                           14.45  \n",
       "75%                           18.06  \n",
       "max                           26.96  "
      ]
     },
     "execution_count": 18,
     "metadata": {},
     "output_type": "execute_result"
    }
   ],
   "source": [
    "subcription_stats = netflix_df['Cost Per Month - Basic ($)'].describe().round(2).to_frame()\n",
    "standard = netflix_df['Cost Per Month - Standard ($)'].describe().round(2)\n",
    "premium = netflix_df['Cost Per Month - Premium ($)'].describe().round(2)\n",
    "subcription_stats = pd.concat([subcription_stats, standard, premium], axis=1)\n",
    "subcription_stats"
   ]
  },
  {
   "cell_type": "markdown",
   "metadata": {},
   "source": [
    "- The average subscription cost for different tiers is as follows:\n",
    "    - Basic: <b>8.37</b>\n",
    "    - Standard: <b>11.99</b>\n",
    "    - Premium: <b>15.61</b>\n",
    "- The price variation for different tiers is as follows\n",
    "    - Basic: Between 1.97 and 12.88, which is <b>10.91</b>\n",
    "    - Standard: Between 3.00 and 20.46, which is <b>17.46</b>\n",
    "    - Premium: Between 4.02 and 26.96, which is <b>22.94</b>\n",
    "    \n",
    "The cost of a customer's Netflix subscription tier increases by as much as $22.94 if they relocate to a different country. "
   ]
  },
  {
   "cell_type": "code",
   "execution_count": 19,
   "metadata": {},
   "outputs": [
    {
     "data": {
      "text/plain": [
       "Text(0.5, 1.0, 'Cost Per Month - Basic ($)')"
      ]
     },
     "execution_count": 19,
     "metadata": {},
     "output_type": "execute_result"
    },
    {
     "data": {
      "image/png": "[encoded data removed]",
      "text/plain": [
       "<Figure size 576x576 with 1 Axes>"
      ]
     },
     "metadata": {},
     "output_type": "display_data"
    }
   ],
   "source": [
    "fig_dims = (8,8)\n",
    "fig, ax = plt.subplots(figsize=fig_dims)\n",
    "\n",
    "sns.histplot(data=netflix_df, x=\"Cost Per Month - Basic ($)\",kde=True,binwidth=0.5)\n",
    "plt.title(\"Cost Per Month - Basic ($)\", fontsize=15)"
   ]
  },
  {
   "cell_type": "code",
   "execution_count": 20,
   "metadata": {},
   "outputs": [
    {
     "data": {
      "text/plain": [
       "Text(0.5, 1.0, 'Cost Per Month - Standard ($)')"
      ]
     },
     "execution_count": 20,
     "metadata": {},
     "output_type": "execute_result"
    },
    {
     "data": {
      "image/png": "[encoded data removed]",
      "text/plain": [
       "<Figure size 576x576 with 1 Axes>"
      ]
     },
     "metadata": {},
     "output_type": "display_data"
    }
   ],
   "source": [
    "fig_dims = (8,8)\n",
    "fig, ax = plt.subplots(figsize=fig_dims)\n",
    "\n",
    "sns.histplot(data=netflix_df, x=\"Cost Per Month - Standard ($)\",kde=True,binwidth=1)\n",
    "plt.title(\"Cost Per Month - Standard ($)\", fontsize=15)"
   ]
  },
  {
   "cell_type": "code",
   "execution_count": 21,
   "metadata": {},
   "outputs": [
    {
     "data": {
      "text/plain": [
       "Text(0.5, 1.0, 'Cost Per Month - Premium ($)')"
      ]
     },
     "execution_count": 21,
     "metadata": {},
     "output_type": "execute_result"
    },
    {
     "data": {
      "image/png": "[encoded data removed]",
      "text/plain": [
       "<Figure size 576x576 with 1 Axes>"
      ]
     },
     "metadata": {},
     "output_type": "display_data"
    }
   ],
   "source": [
    "fig_dims = (8,8)\n",
    "fig, ax = plt.subplots(figsize=fig_dims)\n",
    "\n",
    "sns.histplot(data=netflix_df, x=\"Cost Per Month - Premium ($)\",kde=True,binwidth=1)\n",
    "plt.title(\"Cost Per Month - Premium ($)\", fontsize=15)"
   ]
  },
  {
   "cell_type": "code",
   "execution_count": 22,
   "metadata": {
    "scrolled": true
   },
   "outputs": [
    {
     "data": {
      "text/html": [
       "<div>\n",
       "<style scoped>\n",
       "    .dataframe tbody tr th:only-of-type {\n",
       "        vertical-align: middle;\n",
       "    }\n",
       "\n",
       "    .dataframe tbody tr th {\n",
       "        vertical-align: top;\n",
       "    }\n",
       "\n",
       "    .dataframe thead th {\n",
       "        text-align: right;\n",
       "    }\n",
       "</style>\n",
       "<table border=\"1\" class=\"dataframe\">\n",
       "  <thead>\n",
       "    <tr style=\"text-align: right;\">\n",
       "      <th></th>\n",
       "      <th>Description</th>\n",
       "      <th>Country</th>\n",
       "      <th>Cost Per Month - Basic ($)</th>\n",
       "      <th>Cost Per Month - Standard ($)</th>\n",
       "      <th>Cost Per Month - Premium ($)</th>\n",
       "    </tr>\n",
       "  </thead>\n",
       "  <tbody>\n",
       "    <tr>\n",
       "      <th>33</th>\n",
       "      <td>Highest Subsription Costs</td>\n",
       "      <td>Liechtenstein</td>\n",
       "      <td>12.88</td>\n",
       "      <td>20.46</td>\n",
       "      <td>26.96</td>\n",
       "    </tr>\n",
       "    <tr>\n",
       "      <th>56</th>\n",
       "      <td>Highest Subsription Costs</td>\n",
       "      <td>Switzerland</td>\n",
       "      <td>12.88</td>\n",
       "      <td>20.46</td>\n",
       "      <td>26.96</td>\n",
       "    </tr>\n",
       "    <tr>\n",
       "      <th>59</th>\n",
       "      <td>Lowest Subsription Costs</td>\n",
       "      <td>Turkey</td>\n",
       "      <td>1.97</td>\n",
       "      <td>3.00</td>\n",
       "      <td>4.02</td>\n",
       "    </tr>\n",
       "    <tr>\n",
       "      <th>33</th>\n",
       "      <td>Highest Standard Subsription</td>\n",
       "      <td>Liechtenstein</td>\n",
       "      <td>12.88</td>\n",
       "      <td>20.46</td>\n",
       "      <td>26.96</td>\n",
       "    </tr>\n",
       "    <tr>\n",
       "      <th>56</th>\n",
       "      <td>Highest Standard Subsription</td>\n",
       "      <td>Switzerland</td>\n",
       "      <td>12.88</td>\n",
       "      <td>20.46</td>\n",
       "      <td>26.96</td>\n",
       "    </tr>\n",
       "    <tr>\n",
       "      <th>59</th>\n",
       "      <td>Lowest Standard Subsription</td>\n",
       "      <td>Turkey</td>\n",
       "      <td>1.97</td>\n",
       "      <td>3.00</td>\n",
       "      <td>4.02</td>\n",
       "    </tr>\n",
       "    <tr>\n",
       "      <th>33</th>\n",
       "      <td>Highest Premium Subsription</td>\n",
       "      <td>Liechtenstein</td>\n",
       "      <td>12.88</td>\n",
       "      <td>20.46</td>\n",
       "      <td>26.96</td>\n",
       "    </tr>\n",
       "    <tr>\n",
       "      <th>56</th>\n",
       "      <td>Highest Premium Subsription</td>\n",
       "      <td>Switzerland</td>\n",
       "      <td>12.88</td>\n",
       "      <td>20.46</td>\n",
       "      <td>26.96</td>\n",
       "    </tr>\n",
       "    <tr>\n",
       "      <th>59</th>\n",
       "      <td>Lowest Premium Subsription</td>\n",
       "      <td>Turkey</td>\n",
       "      <td>1.97</td>\n",
       "      <td>3.00</td>\n",
       "      <td>4.02</td>\n",
       "    </tr>\n",
       "  </tbody>\n",
       "</table>\n",
       "</div>"
      ],
      "text/plain": [
       "                     Description        Country  Cost Per Month - Basic ($)  \\\n",
       "33     Highest Subsription Costs  Liechtenstein                       12.88   \n",
       "56     Highest Subsription Costs    Switzerland                       12.88   \n",
       "59      Lowest Subsription Costs         Turkey                        1.97   \n",
       "33  Highest Standard Subsription  Liechtenstein                       12.88   \n",
       "56  Highest Standard Subsription    Switzerland                       12.88   \n",
       "59   Lowest Standard Subsription         Turkey                        1.97   \n",
       "33   Highest Premium Subsription  Liechtenstein                       12.88   \n",
       "56   Highest Premium Subsription    Switzerland                       12.88   \n",
       "59    Lowest Premium Subsription         Turkey                        1.97   \n",
       "\n",
       "    Cost Per Month - Standard ($)  Cost Per Month - Premium ($)  \n",
       "33                          20.46                         26.96  \n",
       "56                          20.46                         26.96  \n",
       "59                           3.00                          4.02  \n",
       "33                          20.46                         26.96  \n",
       "56                          20.46                         26.96  \n",
       "59                           3.00                          4.02  \n",
       "33                          20.46                         26.96  \n",
       "56                          20.46                         26.96  \n",
       "59                           3.00                          4.02  "
      ]
     },
     "execution_count": 22,
     "metadata": {},
     "output_type": "execute_result"
    }
   ],
   "source": [
    "netflix_subscription_stats_df = pd.DataFrame(columns = ['Description', 'Country', 'Total Library Size', 'No. of TV Shows', 'No. of Movies','Cost Per Month - Basic ($)', 'Cost Per Month - Standard ($)','Cost Per Month - Premium ($)'])\n",
    "\n",
    "#Highest basic cost per month\n",
    "max_basic = netflix_df[netflix_df['Cost Per Month - Basic ($)'] == netflix_df['Cost Per Month - Basic ($)'].max()]\n",
    "max_basic.insert(0, \"Description\", \"Highest Subsription Costs\", True)\n",
    "\n",
    "#Smallest basic cost per month\n",
    "min_basic = netflix_df[netflix_df['Cost Per Month - Basic ($)'] == netflix_df['Cost Per Month - Basic ($)'].min()]\n",
    "min_basic.insert(0, \"Description\", \"Lowest Subsription Costs\", True)\n",
    "\n",
    "#Highest standard cost per month\n",
    "max_standard = netflix_df[netflix_df['Cost Per Month - Standard ($)'] == netflix_df['Cost Per Month - Standard ($)'].max()]\n",
    "max_standard.insert(0, \"Description\", \"Highest Standard Subsription\", True)\n",
    "\n",
    "#Smallest standard cost per month\n",
    "min_standard = netflix_df[netflix_df['Cost Per Month - Standard ($)'] == netflix_df['Cost Per Month - Standard ($)'].min()]\n",
    "min_standard.insert(0, \"Description\", \"Lowest Standard Subsription\", True)\n",
    "\n",
    "#Highest premium cost per month\n",
    "max_premium = netflix_df[netflix_df['Cost Per Month - Premium ($)'] == netflix_df['Cost Per Month - Premium ($)'].max()]\n",
    "max_premium.insert(0, \"Description\", \"Highest Premium Subsription\", True)\n",
    "\n",
    "#Smallest premium cost per month\n",
    "min_premium = netflix_df[netflix_df['Cost Per Month - Premium ($)'] == netflix_df['Cost Per Month - Premium ($)'].min()]\n",
    "min_premium.insert(0, \"Description\", \"Lowest Premium Subsription\", True)\n",
    "\n",
    "#Adding columns to empty dataframe\n",
    "netflix_subscription_stats_df = pd.concat([netflix_subscription_stats_df, max_basic, min_basic, max_standard, min_standard, max_premium, min_premium], axis=0)\n",
    "\n",
    "#Removing extra columns\n",
    "netflix_subscription_stats_df = netflix_subscription_stats_df[['Description', 'Country', 'Cost Per Month - Basic ($)', 'Cost Per Month - Standard ($)','Cost Per Month - Premium ($)']]\n",
    "\n",
    "netflix_subscription_stats_df"
   ]
  },
  {
   "cell_type": "markdown",
   "metadata": {},
   "source": [
    "As seen above, \n",
    "- <b>Liechtenstein</b> & <b>Switzerland</b> have the Highest Subscription Costs Overall \n",
    "- <b>Turkey</b> has the Lowest Suscription Costs Overall"
   ]
  },
  {
   "cell_type": "code",
   "execution_count": 23,
   "metadata": {},
   "outputs": [
    {
     "data": {
      "text/plain": [
       "<matplotlib.legend.Legend at 0x1e782008880>"
      ]
     },
     "execution_count": 23,
     "metadata": {},
     "output_type": "execute_result"
    },
    {
     "data": {
      "image/png": "[encoded data removed]",
      "text/plain": [
       "<Figure size 720x432 with 1 Axes>"
      ]
     },
     "metadata": {},
     "output_type": "display_data"
    }
   ],
   "source": [
    "sns.set_theme(style=\"whitegrid\")\n",
    "\n",
    "fig_dims = (10, 6)\n",
    "fig, ax = plt.subplots(figsize=fig_dims)\n",
    "\n",
    "#Creating a DataFrame with the Top 10 countires by Subscription Cost\n",
    "top_cost = netflix_df.sort_values(by=['Cost Per Month - Premium ($)'], ascending=False).head(10)\n",
    "\n",
    "sns.set_color_codes(\"pastel\")\n",
    "sns.barplot(x=top_cost['Cost Per Month - Premium ($)'], y=top_cost['Country'], data=top_lib, label=\"Premium\", color=\"b\")\n",
    "plt.title(\"Top Countries by Netflix Subscription Cost\", fontsize=15)\n",
    "\n",
    "sns.set_color_codes(\"muted\")\n",
    "sns.barplot(x=top_cost['Cost Per Month - Standard ($)'], y=top_cost['Country'], data=top_lib, label=\"Standard\", color=\"b\")\n",
    "\n",
    "sns.set_color_codes(\"pastel\")\n",
    "sns.barplot(x=top_cost['Cost Per Month - Basic ($)'], y=top_cost['Country'], data=top_lib, label=\"Basic\", color=\"darkblue\")\n",
    "\n",
    "# Add a legend and informative axis label\n",
    "ax.set(xlim=(0, 30), ylabel=\"\", xlabel=\"Subscription Cost ($)\")\n",
    "sns.despine(left=True, bottom=True)\n",
    "\n",
    "# Put the legend out of the figure\n",
    "plt.legend(bbox_to_anchor=(1.05, 1), loc=2, borderaxespad=0.)"
   ]
  },
  {
   "cell_type": "markdown",
   "metadata": {},
   "source": [
    "In the Top 10 countries by Subscription Cost we see that the subscription cost remains almost the same across tiers (except for Switzerland and Liechtenstein) \n",
    "\n",
    "## Region"
   ]
  },
  {
   "cell_type": "code",
   "execution_count": 24,
   "metadata": {},
   "outputs": [
    {
     "data": {
      "text/html": [
       "<div>\n",
       "<style scoped>\n",
       "    .dataframe tbody tr th:only-of-type {\n",
       "        vertical-align: middle;\n",
       "    }\n",
       "\n",
       "    .dataframe tbody tr th {\n",
       "        vertical-align: top;\n",
       "    }\n",
       "\n",
       "    .dataframe thead th {\n",
       "        text-align: right;\n",
       "    }\n",
       "</style>\n",
       "<table border=\"1\" class=\"dataframe\">\n",
       "  <thead>\n",
       "    <tr style=\"text-align: right;\">\n",
       "      <th></th>\n",
       "      <th>Region</th>\n",
       "      <th>Average Overall Library Size</th>\n",
       "      <th>Average No. of TV Shows</th>\n",
       "      <th>Average No. of Movies</th>\n",
       "      <th>Average Basic Subscription Cost ($)</th>\n",
       "      <th>Average Standard Subscription Cost ($)</th>\n",
       "      <th>Average Premium Subscription Cost ($)</th>\n",
       "      <th>Average Value for Money</th>\n",
       "    </tr>\n",
       "  </thead>\n",
       "  <tbody>\n",
       "    <tr>\n",
       "      <th>0</th>\n",
       "      <td>Africa</td>\n",
       "      <td>5736.0</td>\n",
       "      <td>3686.0</td>\n",
       "      <td>2050.0</td>\n",
       "      <td>6.26</td>\n",
       "      <td>10.05</td>\n",
       "      <td>12.58</td>\n",
       "      <td>916.0</td>\n",
       "    </tr>\n",
       "    <tr>\n",
       "      <th>1</th>\n",
       "      <td>Asia</td>\n",
       "      <td>5347.0</td>\n",
       "      <td>3377.0</td>\n",
       "      <td>1970.0</td>\n",
       "      <td>7.64</td>\n",
       "      <td>10.40</td>\n",
       "      <td>12.97</td>\n",
       "      <td>900.0</td>\n",
       "    </tr>\n",
       "    <tr>\n",
       "      <th>2</th>\n",
       "      <td>Europe</td>\n",
       "      <td>5361.0</td>\n",
       "      <td>3652.0</td>\n",
       "      <td>1709.0</td>\n",
       "      <td>9.23</td>\n",
       "      <td>13.30</td>\n",
       "      <td>17.55</td>\n",
       "      <td>599.0</td>\n",
       "    </tr>\n",
       "    <tr>\n",
       "      <th>3</th>\n",
       "      <td>North America</td>\n",
       "      <td>5299.0</td>\n",
       "      <td>3459.0</td>\n",
       "      <td>1840.0</td>\n",
       "      <td>8.08</td>\n",
       "      <td>11.88</td>\n",
       "      <td>15.20</td>\n",
       "      <td>661.0</td>\n",
       "    </tr>\n",
       "    <tr>\n",
       "      <th>4</th>\n",
       "      <td>Oceania</td>\n",
       "      <td>6099.0</td>\n",
       "      <td>4026.0</td>\n",
       "      <td>2072.0</td>\n",
       "      <td>8.32</td>\n",
       "      <td>12.32</td>\n",
       "      <td>16.66</td>\n",
       "      <td>736.0</td>\n",
       "    </tr>\n",
       "    <tr>\n",
       "      <th>5</th>\n",
       "      <td>South America</td>\n",
       "      <td>4927.0</td>\n",
       "      <td>3156.0</td>\n",
       "      <td>1771.0</td>\n",
       "      <td>6.71</td>\n",
       "      <td>9.62</td>\n",
       "      <td>12.56</td>\n",
       "      <td>802.0</td>\n",
       "    </tr>\n",
       "  </tbody>\n",
       "</table>\n",
       "</div>"
      ],
      "text/plain": [
       "          Region  Average Overall Library Size  Average No. of TV Shows  \\\n",
       "0         Africa                        5736.0                   3686.0   \n",
       "1           Asia                        5347.0                   3377.0   \n",
       "2         Europe                        5361.0                   3652.0   \n",
       "3  North America                        5299.0                   3459.0   \n",
       "4        Oceania                        6099.0                   4026.0   \n",
       "5  South America                        4927.0                   3156.0   \n",
       "\n",
       "   Average No. of Movies  Average Basic Subscription Cost ($)  \\\n",
       "0                 2050.0                                 6.26   \n",
       "1                 1970.0                                 7.64   \n",
       "2                 1709.0                                 9.23   \n",
       "3                 1840.0                                 8.08   \n",
       "4                 2072.0                                 8.32   \n",
       "5                 1771.0                                 6.71   \n",
       "\n",
       "   Average Standard Subscription Cost ($)  \\\n",
       "0                                   10.05   \n",
       "1                                   10.40   \n",
       "2                                   13.30   \n",
       "3                                   11.88   \n",
       "4                                   12.32   \n",
       "5                                    9.62   \n",
       "\n",
       "   Average Premium Subscription Cost ($)  Average Value for Money  \n",
       "0                                  12.58                    916.0  \n",
       "1                                  12.97                    900.0  \n",
       "2                                  17.55                    599.0  \n",
       "3                                  15.20                    661.0  \n",
       "4                                  16.66                    736.0  \n",
       "5                                  12.56                    802.0  "
      ]
     },
     "execution_count": 24,
     "metadata": {},
     "output_type": "execute_result"
    }
   ],
   "source": [
    "netflix_region_df = netflix_df.groupby('Region')['Total Library Size'].mean().round()\n",
    "\n",
    "#Converting the series netflix_region_df to a dataframe\n",
    "netflix_region_df = netflix_region_df.to_frame()\n",
    "\n",
    "#Identifying average number of TV shows offered in each region\n",
    "netflix_region_df['Average No. of TV Shows'] = netflix_df.groupby('Region')['No. of TV Shows'].mean().round()\n",
    "\n",
    "#Identifying average number of Movies offered in each region\n",
    "netflix_region_df['Average No. of Movies'] = netflix_df.groupby('Region')['No. of Movies'].mean().round()\n",
    "\n",
    "#Identifying average basic subscription cost in each region\n",
    "netflix_region_df['Average Basic Subscription Cost ($)'] = netflix_df.groupby('Region')['Cost Per Month - Basic ($)'].mean().round(2)\n",
    "\n",
    "#Identifying average standard subscription cost in each region\n",
    "netflix_region_df['Average Standard Subscription Cost ($)'] = netflix_df.groupby('Region')['Cost Per Month - Standard ($)'].mean().round(2)\n",
    "\n",
    "#Identifying average premium subscription cost in each region\n",
    "netflix_region_df['Average Premium Subscription Cost ($)'] = netflix_df.groupby('Region')['Cost Per Month - Premium ($)'].mean().round(2)\n",
    "\n",
    "#Identifying average value for money in each region\n",
    "netflix_region_df['Average Value for Money'] = netflix_df.groupby('Region')['Value for Money'].mean().round()\n",
    "\n",
    "#Renaming columns\n",
    "netflix_region_df.rename(columns={'Total Library Size':'Average Overall Library Size'}, inplace=True)\n",
    "\n",
    "#The index for this dataframe contains the station names so we want to put that information in a seaprate column\n",
    "#Resetting the index (also creates a new column called 'index')\n",
    "netflix_region_df .reset_index(level=0, inplace=True)\n",
    "\n",
    "netflix_region_df"
   ]
  },
  {
   "cell_type": "markdown",
   "metadata": {},
   "source": [
    "### Content"
   ]
  },
  {
   "cell_type": "code",
   "execution_count": 25,
   "metadata": {},
   "outputs": [
    {
     "data": {
      "text/plain": [
       "<matplotlib.legend.Legend at 0x1e78225f7c0>"
      ]
     },
     "execution_count": 25,
     "metadata": {},
     "output_type": "execute_result"
    },
    {
     "data": {
      "image/png": "[encoded data removed]",
      "text/plain": [
       "<Figure size 720x432 with 1 Axes>"
      ]
     },
     "metadata": {},
     "output_type": "display_data"
    }
   ],
   "source": [
    "sns.set_theme(style=\"whitegrid\")\n",
    "\n",
    "fig_dims = (10, 6)\n",
    "fig, ax = plt.subplots(figsize=fig_dims)\n",
    "\n",
    "#Creating a DataFrame with the Top 10 countires by library content\n",
    "region_lib = netflix_region_df.sort_values(by=['Average Overall Library Size'], ascending=False).head(10)\n",
    "\n",
    "sns.set_color_codes(\"pastel\")\n",
    "sns.barplot(x=region_lib['Average Overall Library Size'], y=region_lib['Region'], label=\"All Content\", color=\"b\")\n",
    "plt.title(\"Regions by Netflix Library Size\", fontsize=15)\n",
    "\n",
    "sns.set_color_codes(\"muted\")\n",
    "sns.barplot(x=region_lib['Average No. of TV Shows'], y=region_lib['Region'], label=\"TV Shows\", color=\"b\")\n",
    "\n",
    "sns.set_color_codes(\"pastel\")\n",
    "sns.barplot(x=region_lib['Average No. of Movies'], y=region_lib['Region'], label=\"Movies\", color=\"darkblue\")\n",
    "\n",
    "# Add a legend and informative axis label\n",
    "ax.set(xlim=(0, 8000), ylabel=\"\", xlabel=\"Library Size\")\n",
    "sns.despine(left=True, bottom=True)\n",
    "\n",
    "# Put the legend out of the figure\n",
    "plt.legend(bbox_to_anchor=(1.05, 1), loc=2, borderaxespad=0.)"
   ]
  },
  {
   "cell_type": "markdown",
   "metadata": {},
   "source": [
    "- <b>Oceania</b> has the largest overall content library, TV Show & Movie Library\n",
    "- <b>South America</b> has the smallest overall content library, TV Show & Movie Library\n",
    "\n",
    "### Subscription Cost"
   ]
  },
  {
   "cell_type": "code",
   "execution_count": 26,
   "metadata": {},
   "outputs": [
    {
     "data": {
      "text/plain": [
       "<matplotlib.legend.Legend at 0x1e7823130a0>"
      ]
     },
     "execution_count": 26,
     "metadata": {},
     "output_type": "execute_result"
    },
    {
     "data": {
      "image/png": "[encoded data removed]",
      "text/plain": [
       "<Figure size 720x432 with 1 Axes>"
      ]
     },
     "metadata": {},
     "output_type": "display_data"
    }
   ],
   "source": [
    "sns.set_theme(style=\"whitegrid\")\n",
    "\n",
    "fig_dims = (10, 6)\n",
    "fig, ax = plt.subplots(figsize=fig_dims)\n",
    "\n",
    "#Creating a DataFrame with the countires by Subscription Cost\n",
    "region_cost = netflix_region_df.sort_values(by=['Average Premium Subscription Cost ($)'], ascending=False)\n",
    "\n",
    "sns.set_color_codes(\"pastel\")\n",
    "sns.barplot(x=region_cost['Average Premium Subscription Cost ($)'], y=region_cost['Region'], label=\"Premium\", color=\"b\")\n",
    "plt.title(\"Regions by Netflix Subscription Cost\", fontsize=15)\n",
    "\n",
    "sns.set_color_codes(\"muted\")\n",
    "sns.barplot(x=region_cost['Average Standard Subscription Cost ($)'], y=region_cost['Region'], label=\"Standard\", color=\"b\")\n",
    "\n",
    "sns.set_color_codes(\"pastel\")\n",
    "sns.barplot(x=region_cost['Average Basic Subscription Cost ($)'], y=region_cost['Region'], label=\"Basic\", color=\"darkblue\")\n",
    "\n",
    "# Add a legend and informative axis label\n",
    "ax.set(xlim=(0, 20), ylabel=\"\", xlabel=\"Subscription Cost ($)\")\n",
    "sns.despine(left=True, bottom=True)\n",
    "\n",
    "# Put the legend out of the figure\n",
    "plt.legend(bbox_to_anchor=(1.05, 1), loc=2, borderaxespad=0.)"
   ]
  },
  {
   "cell_type": "markdown",
   "metadata": {},
   "source": [
    "- <b>Europe</b> has the largest overall subscription cost\n",
    "- <b>South America</b> has the lowest standard and premium subscription cost\n",
    "- <b>Africa</b> has the lowest basic subscription cost\n",
    "\n",
    "## Value for Money"
   ]
  },
  {
   "cell_type": "code",
   "execution_count": 27,
   "metadata": {
    "scrolled": true
   },
   "outputs": [
    {
     "data": {
      "text/html": [
       "<div>\n",
       "<style scoped>\n",
       "    .dataframe tbody tr th:only-of-type {\n",
       "        vertical-align: middle;\n",
       "    }\n",
       "\n",
       "    .dataframe tbody tr th {\n",
       "        vertical-align: top;\n",
       "    }\n",
       "\n",
       "    .dataframe thead th {\n",
       "        text-align: right;\n",
       "    }\n",
       "</style>\n",
       "<table border=\"1\" class=\"dataframe\">\n",
       "  <thead>\n",
       "    <tr style=\"text-align: right;\">\n",
       "      <th></th>\n",
       "      <th>Value for Money</th>\n",
       "    </tr>\n",
       "  </thead>\n",
       "  <tbody>\n",
       "    <tr>\n",
       "      <th>count</th>\n",
       "      <td>65.0</td>\n",
       "    </tr>\n",
       "    <tr>\n",
       "      <th>mean</th>\n",
       "      <td>700.0</td>\n",
       "    </tr>\n",
       "    <tr>\n",
       "      <th>std</th>\n",
       "      <td>342.0</td>\n",
       "    </tr>\n",
       "    <tr>\n",
       "      <th>min</th>\n",
       "      <td>237.0</td>\n",
       "    </tr>\n",
       "    <tr>\n",
       "      <th>25%</th>\n",
       "      <td>555.0</td>\n",
       "    </tr>\n",
       "    <tr>\n",
       "      <th>50%</th>\n",
       "      <td>628.0</td>\n",
       "    </tr>\n",
       "    <tr>\n",
       "      <th>75%</th>\n",
       "      <td>753.0</td>\n",
       "    </tr>\n",
       "    <tr>\n",
       "      <th>max</th>\n",
       "      <td>2355.0</td>\n",
       "    </tr>\n",
       "  </tbody>\n",
       "</table>\n",
       "</div>"
      ],
      "text/plain": [
       "       Value for Money\n",
       "count             65.0\n",
       "mean             700.0\n",
       "std              342.0\n",
       "min              237.0\n",
       "25%              555.0\n",
       "50%              628.0\n",
       "75%              753.0\n",
       "max             2355.0"
      ]
     },
     "execution_count": 27,
     "metadata": {},
     "output_type": "execute_result"
    }
   ],
   "source": [
    "netflix_df['Value for Money'].describe().round().to_frame()"
   ]
  },
  {
   "cell_type": "code",
   "execution_count": 28,
   "metadata": {},
   "outputs": [
    {
     "data": {
      "text/html": [
       "<div>\n",
       "<style scoped>\n",
       "    .dataframe tbody tr th:only-of-type {\n",
       "        vertical-align: middle;\n",
       "    }\n",
       "\n",
       "    .dataframe tbody tr th {\n",
       "        vertical-align: top;\n",
       "    }\n",
       "\n",
       "    .dataframe thead th {\n",
       "        text-align: right;\n",
       "    }\n",
       "</style>\n",
       "<table border=\"1\" class=\"dataframe\">\n",
       "  <thead>\n",
       "    <tr style=\"text-align: right;\">\n",
       "      <th></th>\n",
       "      <th>Country_code</th>\n",
       "      <th>Country</th>\n",
       "      <th>Region</th>\n",
       "      <th>Total Library Size</th>\n",
       "      <th>No. of TV Shows</th>\n",
       "      <th>No. of Movies</th>\n",
       "      <th>Cost Per Month - Basic ($)</th>\n",
       "      <th>Cost Per Month - Standard ($)</th>\n",
       "      <th>Cost Per Month - Premium ($)</th>\n",
       "      <th>Value for Money</th>\n",
       "    </tr>\n",
       "  </thead>\n",
       "  <tbody>\n",
       "    <tr>\n",
       "      <th>33</th>\n",
       "      <td>li</td>\n",
       "      <td>Liechtenstein</td>\n",
       "      <td>Europe</td>\n",
       "      <td>3048</td>\n",
       "      <td>1712</td>\n",
       "      <td>1336</td>\n",
       "      <td>12.88</td>\n",
       "      <td>20.46</td>\n",
       "      <td>26.96</td>\n",
       "      <td>237.0</td>\n",
       "    </tr>\n",
       "    <tr>\n",
       "      <th>59</th>\n",
       "      <td>tr</td>\n",
       "      <td>Turkey</td>\n",
       "      <td>Asia</td>\n",
       "      <td>4639</td>\n",
       "      <td>2930</td>\n",
       "      <td>1709</td>\n",
       "      <td>1.97</td>\n",
       "      <td>3.00</td>\n",
       "      <td>4.02</td>\n",
       "      <td>2355.0</td>\n",
       "    </tr>\n",
       "  </tbody>\n",
       "</table>\n",
       "</div>"
      ],
      "text/plain": [
       "   Country_code        Country  Region  Total Library Size  No. of TV Shows  \\\n",
       "33           li  Liechtenstein  Europe                3048             1712   \n",
       "59           tr         Turkey    Asia                4639             2930   \n",
       "\n",
       "    No. of Movies  Cost Per Month - Basic ($)  Cost Per Month - Standard ($)  \\\n",
       "33           1336                       12.88                          20.46   \n",
       "59           1709                        1.97                           3.00   \n",
       "\n",
       "    Cost Per Month - Premium ($)  Value for Money  \n",
       "33                         26.96            237.0  \n",
       "59                          4.02           2355.0  "
      ]
     },
     "execution_count": 28,
     "metadata": {},
     "output_type": "execute_result"
    }
   ],
   "source": [
    "netflix_df[(netflix_df['Value for Money']==237)|(netflix_df['Value for Money']==2355)]"
   ]
  },
  {
   "cell_type": "markdown",
   "metadata": {},
   "source": [
    "The average Netflix customer has access to <b>700 TV Shows and Movies</b> for every dollar spent on their subscription.\n",
    "- 75% of customers ss to <b>753 TV Shows and Movies</b> for every dollar spent on their subscription, which is just above average.\n",
    "- On the high end, customers in certain countries have access to <b>2355 TV Shows and Movies</b> for every dollar spent on their subscription.\n",
    "- On the low end, customers in certain countries have access to <b>237 TV Shows and Movies</b> for every dollar spent on their subscription.\n",
    "\n",
    "Therefore, a cutomer in Turkey country is getting <b>10 times the value</b> from their Netflix subscription compared to a customer in Liechtenstein"
   ]
  },
  {
   "cell_type": "code",
   "execution_count": 29,
   "metadata": {},
   "outputs": [
    {
     "data": {
      "text/plain": [
       "Text(0.5, 1.0, 'Top Countries by Customer Value for Money')"
      ]
     },
     "execution_count": 29,
     "metadata": {},
     "output_type": "execute_result"
    },
    {
     "data": {
      "image/png": "[encoded data removed]",
      "text/plain": [
       "<Figure size 720x432 with 1 Axes>"
      ]
     },
     "metadata": {},
     "output_type": "display_data"
    }
   ],
   "source": [
    "sns.set_theme(style=\"whitegrid\")\n",
    "\n",
    "fig_dims = (10, 6)\n",
    "fig, ax = plt.subplots(figsize=fig_dims)\n",
    "\n",
    "#Creating a DataFrame with the countires by Subscription Cost\n",
    "value = netflix_df.sort_values(by=['Value for Money'], ascending=False).head(10)\n",
    "\n",
    "sns.set_color_codes(\"pastel\")\n",
    "sns.barplot(x=value['Value for Money'], y=value['Country'], color=\"b\")\n",
    "plt.title(\"Top Countries by Customer Value for Money\", fontsize=15)"
   ]
  },
  {
   "cell_type": "markdown",
   "metadata": {},
   "source": [
    "Customers in <b>Turkey</b> and <b>India</b> have the greatest value for money for their Basic Netflix Subscription"
   ]
  },
  {
   "cell_type": "code",
   "execution_count": 30,
   "metadata": {},
   "outputs": [
    {
     "data": {
      "text/plain": [
       "Text(0.5, 1.0, 'Top Countries by Lowest Customer Value for Money')"
      ]
     },
     "execution_count": 30,
     "metadata": {},
     "output_type": "execute_result"
    },
    {
     "data": {
      "image/png": "[encoded data removed]",
      "text/plain": [
       "<Figure size 720x432 with 1 Axes>"
      ]
     },
     "metadata": {},
     "output_type": "display_data"
    }
   ],
   "source": [
    "sns.set_theme(style=\"whitegrid\")\n",
    "\n",
    "fig_dims = (10, 6)\n",
    "fig, ax = plt.subplots(figsize=fig_dims)\n",
    "\n",
    "#Creating a DataFrame with the countires by Subscription Cost\n",
    "value = netflix_df.sort_values(by=['Value for Money'], ascending=True).head(10)\n",
    "\n",
    "sns.set_color_codes(\"pastel\")\n",
    "sns.barplot(x=value['Value for Money'], y=value['Country'], color=\"b\")\n",
    "plt.title(\"Top Countries by Lowest Customer Value for Money\", fontsize=15)"
   ]
  },
  {
   "cell_type": "markdown",
   "metadata": {},
   "source": [
    "Customers in <b>Liechtenstein, Croatia and San Marino</b> have the least value for money for their Basic Netflix Subscription\n",
    "\n",
    "### Region"
   ]
  },
  {
   "cell_type": "code",
   "execution_count": 31,
   "metadata": {},
   "outputs": [
    {
     "data": {
      "text/plain": [
       "Text(0.5, 1.0, 'Customer Value for Money by Region')"
      ]
     },
     "execution_count": 31,
     "metadata": {},
     "output_type": "execute_result"
    },
    {
     "data": {
      "image/png": "[encoded data removed]",
      "text/plain": [
       "<Figure size 720x432 with 1 Axes>"
      ]
     },
     "metadata": {},
     "output_type": "display_data"
    }
   ],
   "source": [
    "sns.set_theme(style=\"whitegrid\")\n",
    "\n",
    "fig_dims = (10, 6)\n",
    "fig, ax = plt.subplots(figsize=fig_dims)\n",
    "\n",
    "#Creating a DataFrame with the countires by Subscription Cost\n",
    "value_region = netflix_region_df.sort_values(by=['Average Value for Money'], ascending=False)\n",
    "\n",
    "sns.set_color_codes(\"pastel\")\n",
    "sns.barplot(x=value_region['Average Value for Money'], y=value_region['Region'], color=\"b\")\n",
    "plt.title(\"Customer Value for Money by Region\", fontsize=15)"
   ]
  },
  {
   "cell_type": "markdown",
   "metadata": {},
   "source": [
    "- Customers in <b>Africa and Asia</b> have the greatest value for money for their Basic Netflix Subscription\n",
    "- Customers in <b>Europe</b> have the least value for money for their Basic Netflix Subscription\n",
    "\n",
    "### Content vs. Subscription \n",
    "\n",
    "Another way to determine the customer's value for money is to look at countries where customers get access to above average library size and below average basic subsciption cost."
   ]
  },
  {
   "cell_type": "code",
   "execution_count": 32,
   "metadata": {},
   "outputs": [
    {
     "data": {
      "text/plain": [
       "10"
      ]
     },
     "execution_count": 32,
     "metadata": {},
     "output_type": "execute_result"
    }
   ],
   "source": [
    "#Identifying countries with below average basic cost and above average library size\n",
    "highlight = netflix_df[(netflix_df['Cost Per Month - Basic ($)']<netflix_df['Cost Per Month - Basic ($)'].mean())&(netflix_df['Total Library Size']>netflix_df['Total Library Size'].mean())]\n",
    "\n",
    "len(highlight)"
   ]
  },
  {
   "cell_type": "markdown",
   "metadata": {},
   "source": [
    "We have <b>10 countries</b> where customers get access to above average library size and below average basic subsciption cost."
   ]
  },
  {
   "cell_type": "code",
   "execution_count": 33,
   "metadata": {},
   "outputs": [
    {
     "data": {
      "text/plain": [
       "Text(0.5, 1.0, 'Content vs. Subsciption Cost')"
      ]
     },
     "execution_count": 33,
     "metadata": {},
     "output_type": "execute_result"
    },
    {
     "data": {
      "image/png": "[encoded data removed]",
      "text/plain": [
       "<Figure size 1080x360 with 1 Axes>"
      ]
     },
     "metadata": {},
     "output_type": "display_data"
    }
   ],
   "source": [
    "fig_dims = (15, 5)\n",
    "fig, ax = plt.subplots(figsize=fig_dims)\n",
    "\n",
    "sns.scatterplot(x='Total Library Size',y='Cost Per Month - Basic ($)', data=netflix_df, s=50, color=\"lightblue\")\n",
    "sns.scatterplot(x='Total Library Size',y='Cost Per Month - Basic ($)', data=highlight, s=50, color=\"green\")\n",
    "\n",
    "plt.title(\"Content vs. Subsciption Cost\",fontsize=15)"
   ]
  },
  {
   "cell_type": "markdown",
   "metadata": {},
   "source": [
    "Points highlighted in <b>green</b> indicate countries with access to an above average library size at a below average basic subscription cost. "
   ]
  },
  {
   "cell_type": "code",
   "execution_count": 34,
   "metadata": {},
   "outputs": [
    {
     "data": {
      "text/html": [
       "<div>\n",
       "<style scoped>\n",
       "    .dataframe tbody tr th:only-of-type {\n",
       "        vertical-align: middle;\n",
       "    }\n",
       "\n",
       "    .dataframe tbody tr th {\n",
       "        vertical-align: top;\n",
       "    }\n",
       "\n",
       "    .dataframe thead th {\n",
       "        text-align: right;\n",
       "    }\n",
       "</style>\n",
       "<table border=\"1\" class=\"dataframe\">\n",
       "  <thead>\n",
       "    <tr style=\"text-align: right;\">\n",
       "      <th></th>\n",
       "      <th>Country_code</th>\n",
       "      <th>Country</th>\n",
       "      <th>Region</th>\n",
       "      <th>Total Library Size</th>\n",
       "      <th>No. of TV Shows</th>\n",
       "      <th>No. of Movies</th>\n",
       "      <th>Cost Per Month - Basic ($)</th>\n",
       "      <th>Cost Per Month - Standard ($)</th>\n",
       "      <th>Cost Per Month - Premium ($)</th>\n",
       "      <th>Value for Money</th>\n",
       "    </tr>\n",
       "  </thead>\n",
       "  <tbody>\n",
       "    <tr>\n",
       "      <th>60</th>\n",
       "      <td>ua</td>\n",
       "      <td>Ukraine</td>\n",
       "      <td>Europe</td>\n",
       "      <td>5336</td>\n",
       "      <td>3261</td>\n",
       "      <td>2075</td>\n",
       "      <td>5.64</td>\n",
       "      <td>8.46</td>\n",
       "      <td>11.29</td>\n",
       "      <td>946.0</td>\n",
       "    </tr>\n",
       "    <tr>\n",
       "      <th>48</th>\n",
       "      <td>ru</td>\n",
       "      <td>Russia</td>\n",
       "      <td>Europe</td>\n",
       "      <td>5711</td>\n",
       "      <td>3624</td>\n",
       "      <td>2087</td>\n",
       "      <td>8.13</td>\n",
       "      <td>10.84</td>\n",
       "      <td>13.56</td>\n",
       "      <td>702.0</td>\n",
       "    </tr>\n",
       "    <tr>\n",
       "      <th>52</th>\n",
       "      <td>za</td>\n",
       "      <td>South Africa</td>\n",
       "      <td>Africa</td>\n",
       "      <td>5736</td>\n",
       "      <td>3686</td>\n",
       "      <td>2050</td>\n",
       "      <td>6.26</td>\n",
       "      <td>10.05</td>\n",
       "      <td>12.58</td>\n",
       "      <td>916.0</td>\n",
       "    </tr>\n",
       "  </tbody>\n",
       "</table>\n",
       "</div>"
      ],
      "text/plain": [
       "   Country_code       Country  Region  Total Library Size  No. of TV Shows  \\\n",
       "60           ua       Ukraine  Europe                5336             3261   \n",
       "48           ru        Russia  Europe                5711             3624   \n",
       "52           za  South Africa  Africa                5736             3686   \n",
       "\n",
       "    No. of Movies  Cost Per Month - Basic ($)  Cost Per Month - Standard ($)  \\\n",
       "60           2075                        5.64                           8.46   \n",
       "48           2087                        8.13                          10.84   \n",
       "52           2050                        6.26                          10.05   \n",
       "\n",
       "    Cost Per Month - Premium ($)  Value for Money  \n",
       "60                         11.29            946.0  \n",
       "48                         13.56            702.0  \n",
       "52                         12.58            916.0  "
      ]
     },
     "execution_count": 34,
     "metadata": {},
     "output_type": "execute_result"
    }
   ],
   "source": [
    "#Identifying the top 3 countries by Total Library Size\n",
    "highlight.sort_values(by=['Total Library Size'], ascending=True).head(3)"
   ]
  },
  {
   "cell_type": "code",
   "execution_count": 35,
   "metadata": {
    "scrolled": false
   },
   "outputs": [
    {
     "data": {
      "text/html": [
       "<div>\n",
       "<style scoped>\n",
       "    .dataframe tbody tr th:only-of-type {\n",
       "        vertical-align: middle;\n",
       "    }\n",
       "\n",
       "    .dataframe tbody tr th {\n",
       "        vertical-align: top;\n",
       "    }\n",
       "\n",
       "    .dataframe thead th {\n",
       "        text-align: right;\n",
       "    }\n",
       "</style>\n",
       "<table border=\"1\" class=\"dataframe\">\n",
       "  <thead>\n",
       "    <tr style=\"text-align: right;\">\n",
       "      <th></th>\n",
       "      <th>Country_code</th>\n",
       "      <th>Country</th>\n",
       "      <th>Region</th>\n",
       "      <th>Total Library Size</th>\n",
       "      <th>No. of TV Shows</th>\n",
       "      <th>No. of Movies</th>\n",
       "      <th>Cost Per Month - Basic ($)</th>\n",
       "      <th>Cost Per Month - Standard ($)</th>\n",
       "      <th>Cost Per Month - Premium ($)</th>\n",
       "      <th>Value for Money</th>\n",
       "    </tr>\n",
       "  </thead>\n",
       "  <tbody>\n",
       "    <tr>\n",
       "      <th>26</th>\n",
       "      <td>in</td>\n",
       "      <td>India</td>\n",
       "      <td>Asia</td>\n",
       "      <td>5843</td>\n",
       "      <td>3718</td>\n",
       "      <td>2125</td>\n",
       "      <td>2.64</td>\n",
       "      <td>6.61</td>\n",
       "      <td>8.60</td>\n",
       "      <td>2213.0</td>\n",
       "    </tr>\n",
       "    <tr>\n",
       "      <th>60</th>\n",
       "      <td>ua</td>\n",
       "      <td>Ukraine</td>\n",
       "      <td>Europe</td>\n",
       "      <td>5336</td>\n",
       "      <td>3261</td>\n",
       "      <td>2075</td>\n",
       "      <td>5.64</td>\n",
       "      <td>8.46</td>\n",
       "      <td>11.29</td>\n",
       "      <td>946.0</td>\n",
       "    </tr>\n",
       "    <tr>\n",
       "      <th>52</th>\n",
       "      <td>za</td>\n",
       "      <td>South Africa</td>\n",
       "      <td>Africa</td>\n",
       "      <td>5736</td>\n",
       "      <td>3686</td>\n",
       "      <td>2050</td>\n",
       "      <td>6.26</td>\n",
       "      <td>10.05</td>\n",
       "      <td>12.58</td>\n",
       "      <td>916.0</td>\n",
       "    </tr>\n",
       "  </tbody>\n",
       "</table>\n",
       "</div>"
      ],
      "text/plain": [
       "   Country_code       Country  Region  Total Library Size  No. of TV Shows  \\\n",
       "26           in         India    Asia                5843             3718   \n",
       "60           ua       Ukraine  Europe                5336             3261   \n",
       "52           za  South Africa  Africa                5736             3686   \n",
       "\n",
       "    No. of Movies  Cost Per Month - Basic ($)  Cost Per Month - Standard ($)  \\\n",
       "26           2125                        2.64                           6.61   \n",
       "60           2075                        5.64                           8.46   \n",
       "52           2050                        6.26                          10.05   \n",
       "\n",
       "    Cost Per Month - Premium ($)  Value for Money  \n",
       "26                          8.60           2213.0  \n",
       "60                         11.29            946.0  \n",
       "52                         12.58            916.0  "
      ]
     },
     "execution_count": 35,
     "metadata": {},
     "output_type": "execute_result"
    }
   ],
   "source": [
    "#Identifying the top 3 countries by Basic Subscription Cost\n",
    "highlight.sort_values(by=['Cost Per Month - Basic ($)'], ascending=True).head(3)"
   ]
  },
  {
   "cell_type": "markdown",
   "metadata": {},
   "source": [
    "In terms of Content, the top 3 countries for customers are <b> Ukraine, Russia and South Africa</b> \n",
    "\n",
    "In terms of Basic Subscription Cost, the top 3 countries for customers are <b> India, Ukraine and South Africa</b> \n",
    "\n",
    "Taking both Content and Subscription Cost into consideration <b>Ukrainian and South African</b> Customers receive the most value for their Netflix Subscription.\n",
    "\n",
    "# Summary of Netflix Data\n",
    "\n",
    "We have data on <b>65</b> countries where Netflix operates across <b>6 regions</b>.\n",
    "\n",
    "In terms of number of countries served,\n",
    "- <b>Europe</b> represents the biggest region for Netlfix\n",
    "- <b>Africa</b> represents the smallest region for Netlfix\n",
    "\n",
    "## Content\n",
    "\n",
    "- The average library size is <b>5314</b> with an average of <b>3519 TV Shows</b> and <b>1795 Movies</b>\n",
    "- The content library size varies between <b>2274 and 7425</b>, which indicates that there is a significant difference in what content a netflix customer can see based on where they are accessing Netflix from. \n",
    "- <b>75% of customers</b> have access to a library of at least <b>4948 TV Shows and Movies</b>.\n",
    "\n",
    "Based on the data we can say that the majority of Netflix's content in any given country consists of TV Shows.\n",
    "- The standard deviation in TV Shows available is 723, while the standard deviation in Movies available is 327 \n",
    "- Therefore, Movies available to users in different countries vary by a smaller margin than TV Shows avaialable to users in different countries. \n",
    "- TV Shows are the main differentiator in terms of content between each country. \n",
    "\n",
    "## Subscription Cost \n",
    "\n",
    "- The average subscription cost for different tiers is as follows:\n",
    "    - Basic: <b>8.37</b>\n",
    "    - Standard: <b>11.99</b>\n",
    "    - Premium: <b>15.61</b>\n",
    "    \n",
    "The cost of a customer's Netflix subscription tier increases by as much as $22.94 if they relocate to a different country. \n",
    "\n",
    "## Value for Money\n",
    "\n",
    "The average Netflix customer has access to <b>700 TV Shows and Movies</b> for every dollar spent on their subscription.\n",
    "- 75% of customers ss to <b>753 TV Shows and Movies</b> for every dollar spent on their subscription, which is just above average.\n",
    "- On the high end, customers in certain countries have access to <b>2355 TV Shows and Movies</b> for every dollar spent on their subscription.\n",
    "- On the low end, customers in certain countries have access to <b>237 TV Shows and Movies</b> for every dollar spent on their subscription.\n",
    "\n",
    "Thereofore, the disparity between the value a customer experiences from country to country may be almost <b>as high as 10 times the value for money</b>\n",
    "\n",
    "## Regional Breakdown\n",
    "\n",
    "### Europe\n",
    "\n",
    "<u>Content</u>: European countries on average have access to the <i>3rd largest content library</i>, only slightly bigger than Asian countries.\n",
    "\n",
    "<u>Subscription Cost and Value for Money</u>: Customers experience the <i>least value for money</i> for their Basic Netflix Subscription despite the fact that it has the <i>highest overall subscription cost</i>\n",
    "\n",
    "<u>Country Details</u>:\n",
    "- <b>Czechia</b> has the Largest Content Library Overall and the Largest Library of TV Shows\n",
    "- <b>Croatia</b> has the Smallest Content Library Overall and the Smallest Library of TV Shows\n",
    "- <b>San Marino</b> has the Smallest Library of Movies\n",
    "- <b>Liechtenstein</b> has the Highest Subscription Costs Overall and customers in <b>Liechtenstein</b> experience the least value for money for their Basic Netflix Subscription\n",
    "- Taking both Content and Subscription Cost into consideration, customers in <b>Ukraine</b> receive the most value for their Basic Netflix Subscription.\n",
    "\n",
    "### Asia\n",
    "<u>Content</u>: Asian countries on average have access to the <i>4rd largest content library</i>\n",
    "\n",
    "<u>Subscription Cost and Value for Money</u>: Customers experience the <i>2nd highest value for money</i> for their Basic Netflix Subscription and have the <i> 4th highest overall subscription cost</i>\n",
    "\n",
    "<u>Country Details</u>:\n",
    "- <b>Malaysia</b> has the Largest Library of Movies\n",
    "- <b>Turkey</b> has the Lowest Suscription Costs Overall\n",
    "- Taking purely just value for money into consideration, customers in <b>Turkey</b> receive the greatest value for money for their Basic Netflix Subscription\n",
    "\n",
    "\n",
    "### Africa\n",
    "<u>Content</u>: African countries on average have access to the <i>2nd largest content library</i>\n",
    "\n",
    "<u>Subscription Cost and Value for Money</u>: Customers experience the <i>greatest value for money</i> for their Basic Netflix Subscription and it has the <i>lowest basic subscription cost</i>\n",
    "\n",
    "### North America\n",
    "<u>Content</u>: North American countries on average have access to the <i>2nd smallest overall content library</i>\n",
    "\n",
    "<u>Subscription Cost and Value for Money</u>:Customers experience the <i>2nd lowest value for money</i> for their Basic Netflix Subscription and it has the <i>3rd highest overall subscription cost</i>. \n",
    "\n",
    "### South America\n",
    "<u>Content</u>: South American Countries on average have access to the <i>smallest overall content library</i>\n",
    "\n",
    "<u>Subscription Cost and Value for Money</u>: Customers experience the <i>3rd highest value for money</i> for their Basic Netflix Subscription and it has the <i>lowest overall subscription cost</i>. \n",
    "\n",
    "### Oceania\n",
    "<u>Content</u>: Oceanian countries on average have access to the <i>largest overall content library</i>\n",
    "\n",
    "<u>Subscription Cost and Value for Money</u>: Customers experience the <i>4th highest value for money</i> for their Basic Netflix Subscription and it has the <i>2nd highest overall subscription cost</i>. \n",
    "\n",
    "# Where do Netflix customers experience the highest satisfaction?\n",
    "\n",
    "A Netflix customer's primary concern is determining a balance between the value of entertainment and the cost of that entertainment. Ideally, the customer is seeking to pay the lowest amount possible for access to the most content. Based on the information above we can see that Cutomers in Africa would experience the most satisfaction for three key reasons:\n",
    "\n",
    "<u>Content</u>: Access to the <i>2nd largest content library</i><br>\n",
    "<u>Subscription Cost</u>: It has the <i>lowest basic subscription cost</i><br>\n",
    "<u>Value for Money</u>: Region with the <i>greatest value for money</i> \n",
    "\n",
    "In particular, <b>South Africa</b>, which ranks 3rd in terms of above average access to content and below average basic subscription cost is the best location for Netflix Customers.\n",
    "\n",
    "<b>Additional Data necessary</b><br>\n",
    "The data only tells how much content is available to customers in each country and how much the different subscription tiers cost. For a holistic comparison, we need to consider factors such as \n",
    "- Number of customers in each country\n",
    "- Number of customers actively using Netflix in each country (including Total hours of content watched, frequency of use etc.)\n",
    "- Details on the type of content available\n",
    "- Details on customer preferences (in terms of content)<br>\n",
    "- And much more...\n",
    "\n",
    "Together this data can help paint a detailed picture of what customers enjoy the most and where the most satisfied customers may be located. \n"
   ]
  },
  {
   "cell_type": "code",
   "execution_count": null,
   "metadata": {},
   "outputs": [],
   "source": []
  }
 ],
 "metadata": {
  "kernelspec": {
   "display_name": "Python 3",
   "language": "python",
   "name": "python3"
  },
  "language_info": {
   "codemirror_mode": {
    "name": "ipython",
    "version": 3
   },
   "file_extension": ".py",
   "mimetype": "text/x-python",
   "name": "python",
   "nbconvert_exporter": "python",
   "pygments_lexer": "ipython3",
   "version": "3.8.5"
  }
 },
 "nbformat": 4,
 "nbformat_minor": 4
}
